{
 "cells": [
  {
   "cell_type": "markdown",
   "metadata": {},
   "source": [
    "# Report & Explanations\n",
    "\n",
    "This notebook will include a brief report detailing how I completed Tasks 1 to 7. I will describe the commands used for each task and explain their purpose in achieving the objectives. This assignment is for Computer Infrastructure module on Higher Diploma in Data Analytics course.\n",
    "\n",
    "____"
   ]
  },
  {
   "cell_type": "markdown",
   "metadata": {},
   "source": [
    "## Tasks"
   ]
  },
  {
   "cell_type": "markdown",
   "metadata": {},
   "source": [
    "[**_Task 1: Create Directory Structure_**](https://github.com/ianmcloughlin/2425_computer_infrastructure/tree/main?tab=readme-ov-file#task-1-create-directory-structure)\n",
    "_____\n",
    "Using the command line, create a directory (that is, a folder) named data at the root of your repository. Inside data, create two subdirectories: timestamps and weather.\n",
    "\n",
    "**Steps:**\n",
    "1. Navigate to my main repository by using the **_cd_** path location of my repository: `/workspaces/computer_infrastructure` \n",
    "2. Create a directory or folder and name is data: `mkdir data`\n",
    "3. Inside the data folder, I will add two subdirectories: `mkdir data/timestamps and data/weather`"
   ]
  },
  {
   "cell_type": "markdown",
   "metadata": {},
   "source": [
    "[**_Task 2: Timestamps_**](https://github.com/ianmcloughlin/2425_computer_infrastructure/tree/main?tab=readme-ov-file#task-2-timestamps)\n",
    "___\n",
    "\n",
    "Navigate to the data/timestamps directory. Use the date command to output the current date and time, appending the output to a file named now.txt. Make sure to use the >> operator to append (not overwrite) the file. Repeat this step ten times, then use the more command to verify that now.txt has the expected content.\n",
    "\n",
    "**Steps:**\n",
    "1. Navigate to subdirectory timestamps inside data folder: `cd data/timestamps`\n",
    "2. Output the current date and time, appending the result to now.txt: `date >> now.txt`\n",
    "3. Manually repeat the second step ten times by usaing the same code in step 2.\n",
    "4. I then used the more command to view the contents of now.txt: `more now.txt`"
   ]
  },
  {
   "cell_type": "markdown",
   "metadata": {},
   "source": [
    "[**_Task 3: Formatting Timestamps_**](https://github.com/ianmcloughlin/2425_computer_infrastructure/tree/main?tab=readme-ov-file#task-3-formatting-timestamps)\n",
    "___\n",
    "\n",
    "Run the date command again, but this time format the output using YYYYmmdd_HHMMSS (e.g., 20261114_130003 for 1:00:03 PM on November 14, 2026). Refer to the date man page (using man date) for more formatting options. (Press q to exit the man page). Append the formatted output to a file named formatted.txt.\n",
    "\n",
    "**Steps:**\n",
    "1. Run the date comment with the custom format YYYYmmdd_HHMMSS: `date +\"%Y%m%d_%H%M%S\" >> formatted.txt`\n",
    "This will get the date and time in that format for example: 20241119_161025\n",
    "2. I've also referred to the **_man date page_** to review specific formatting options: `man date`"
   ]
  },
  {
   "cell_type": "markdown",
   "metadata": {},
   "source": [
    "[**_Task 4: Create Timestamped Files_**](https://github.com/ianmcloughlin/2425_computer_infrastructure/tree/main?tab=readme-ov-file#task-4-create-timestamped-files)\n",
    "___\n",
    "\n",
    "Use the touch command to create an empty file with a name in the YYYYmmdd_HHMMSS.txt format. You can achieve this by embedding your date command in backticks ` into the touch command. You should no longer use redirection (>>) in this step.\n",
    "\n",
    "**Steps:**\n",
    "1. Create the code using the **_touch_** command to make an empty file.\n",
    "2. Using the backticks will tell the terminal to run the date command first and use its output as the filename."
   ]
  },
  {
   "cell_type": "markdown",
   "metadata": {},
   "source": [
    "[**_Task 5: Download Today's Weather Data_**](https://github.com/ianmcloughlin/2425_computer_infrastructure/tree/main?tab=readme-ov-file#task-5-download-todays-weather-data)\n",
    "___\n",
    "\n",
    "Change to the data/weather directory. Download the latest weather data for the Athenry weather station from Met Eireann using wget. Use the -O <filename> option to save the file as weather.json. The data can be found at this URL:\n",
    "https://prodapi.metweb.ie/observations/athenry/today.\n",
    "\n",
    "**Steps:**\n",
    "1. Use the wget command to download the URL of the weather data from [Ian's repository in Task 5](https://github.com/ianmcloughlin/2425_computer_infrastructure/tree/main#task-5-download-todays-weather-data)\n",
    "2. Run the code: `wget -O weather.json https://prodapi.metweb.ie/observations/athenry/today`.\n",
    "The `-O` option allows you to save the filename as **weather.json**"
   ]
  },
  {
   "cell_type": "markdown",
   "metadata": {},
   "source": [
    "[**_Task 6: Timestamp the Data_**](https://github.com/ianmcloughlin/2425_computer_infrastructure/tree/main?tab=readme-ov-file#task-5-download-todays-weather-data)\n",
    "___\n",
    "\n",
    "Modify the command from Task 5 to save the downloaded file with a timestamped name in the format YYYYmmdd_HHMMSS.json.\n",
    "\n",
    "**Steps:**\n",
    "\n",
    "1."
   ]
  },
  {
   "cell_type": "markdown",
   "metadata": {},
   "source": [
    "## References\n",
    "- [markdown cheatsheet](https://github.com/adam-p/markdown-here/wiki/Markdown-Cheatsheet)"
   ]
  },
  {
   "cell_type": "markdown",
   "metadata": {},
   "source": []
  }
 ],
 "metadata": {
  "language_info": {
   "name": "python"
  }
 },
 "nbformat": 4,
 "nbformat_minor": 2
}
